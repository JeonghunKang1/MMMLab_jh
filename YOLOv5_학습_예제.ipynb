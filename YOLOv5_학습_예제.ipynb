{
 "cells": [
  {
   "cell_type": "markdown",
   "metadata": {},
   "source": [
    "##  YOLOV5 모델 라벨링 및 학습 예제"
   ]
  },
  {
   "cell_type": "code",
   "execution_count": null,
   "metadata": {},
   "outputs": [],
   "source": [
    "# 데이터셋 경로 및 데이터셋의 yaml 파일 경로 지정\n"
   ]
  },
  {
   "cell_type": "markdown",
   "metadata": {},
   "source": [
    "## 모델 학습"
   ]
  },
  {
   "cell_type": "code",
   "execution_count": null,
   "metadata": {},
   "outputs": [],
   "source": [
    "#train.py 파일 실행"
   ]
  },
  {
   "cell_type": "code",
   "execution_count": null,
   "metadata": {},
   "outputs": [],
   "source": [
    "# 텐서보드 실행\n",
    "%load_ext tensorboard\n",
    "%tensorboard --logdir runs"
   ]
  },
  {
   "cell_type": "code",
   "execution_count": null,
   "metadata": {},
   "outputs": [],
   "source": [
    "#detect.py 파일 실행 "
   ]
  },
  {
   "cell_type": "markdown",
   "metadata": {},
   "source": [
    "## 학습 모델 이용 라벨링 이미지 테스트"
   ]
  },
  {
   "cell_type": "code",
   "execution_count": null,
   "metadata": {},
   "outputs": [],
   "source": [
    "# 테스트 결과 확인해보기\n"
   ]
  },
  {
   "cell_type": "code",
   "execution_count": null,
   "metadata": {},
   "outputs": [],
   "source": [
    "# 바운딩 박스 그리기 함수\n",
    "def draw_boxes(image, boxes, color, labels=None):\n",
    "    for i, box in enumerate(boxes):\n",
    "        x1, y1, x2, y2 = map(int, box)\n",
    "        cv2.rectangle(image, (x1, y1), (x2, y2), color, 2)\n",
    "        if labels:\n",
    "            cv2.putText(image, labels[i], (x1, y1 - 10), cv2.FONT_HERSHEY_SIMPLEX, 0.9, color, 2)\n",
    "    return image\n",
    "\n",
    "def load_labels(label_file, width, height):\n",
    "    with open(label_file, 'r') as file:\n",
    "        labels = [list(map(float, line.split())) for line in file.readlines()]\n",
    "    boxes = [convert_box_format(label, width, height) for label in labels]\n",
    "    return boxes\n",
    "\n",
    "def convert_box_format(box, width, height):\n",
    "    x_center, y_center, w, h = box[1:5]\n",
    "    x1 = (x_center - w / 2) * width\n",
    "    y1 = (y_center - h / 2) * height\n",
    "    x2 = (x_center + w / 2) * width\n",
    "    y2 = (y_center + h / 2) * height\n",
    "    return [x1, y1, x2, y2]\n",
    "\n",
    "# 테스트 결과 시각화\n",
    "\n",
    "label_dir =   # test 라벨 디렉토리\n",
    "image_dir =   # detect.py를 수행한 뒤 생성된 이미지 디렉토리\n",
    "\n",
    "if not os.path.exists(image_dir):\n",
    "    raise Exception('image_dir 오류.')\n",
    "\n",
    "for image_path in glob.glob(image_dir + '/*.jpg'):\n",
    "    #display(Image(filename=image_path))\n",
    "\n",
    "    # 이미지 파일명 추출\n",
    "    image_file = os.path.basename(image_path)\n",
    "    image_file_no_ext = os.path.splitext(image_file)[0]\n",
    "\n",
    "    # 이미지 로드\n",
    "    image = cv2.imread(image_path)\n",
    "    height, width, _ = image.shape\n",
    "\n",
    "    # Ground Truth 바운딩 박스 가져오기\n",
    "    label_file = os.path.join(label_dir, f'{image_file_no_ext}.txt')\n",
    "    if os.path.exists(label_file):\n",
    "        gt_boxes = load_labels(label_file, width, height)\n",
    "    else:\n",
    "        gt_boxes = []\n",
    "\n",
    "    # Ground Truth 바운딩 박스 그리기\n",
    "    image_with_gt = draw_boxes(image.copy(), gt_boxes, (0, 255, 0))\n",
    "\n",
    "    # 시각화\n",
    "    #plt.figure(figsize=(10, 10))\n",
    "    plt.title('Labeling Data')\n",
    "    plt.imshow(cv2.cvtColor(image_with_gt, cv2.COLOR_BGR2RGB))\n",
    "    plt.axis('off')\n",
    "    plt.show()\n",
    "    print(\"\\n\")"
   ]
  }
 ],
 "metadata": {
  "kernelspec": {
   "display_name": "lg",
   "language": "python",
   "name": "lg"
  },
  "language_info": {
   "codemirror_mode": {
    "name": "ipython",
    "version": 3
   },
   "file_extension": ".py",
   "mimetype": "text/x-python",
   "name": "python",
   "nbconvert_exporter": "python",
   "pygments_lexer": "ipython3",
   "version": "3.9.12"
  }
 },
 "nbformat": 4,
 "nbformat_minor": 2
}
